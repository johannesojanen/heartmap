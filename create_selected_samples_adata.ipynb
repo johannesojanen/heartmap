{
 "cells": [
  {
   "cell_type": "code",
   "execution_count": 1,
   "id": "db8d4c20-a560-4b44-a06d-8e6e7c857a00",
   "metadata": {},
   "outputs": [
    {
     "name": "stderr",
     "output_type": "stream",
     "text": [
      "/home/ojanen/data/new_conda/envs/heartmap/lib/python3.11/site-packages/scvi/_settings.py:63: UserWarning: Since v1.0.0, scvi-tools no longer uses a random seed by default. Run `scvi.settings.seed = 0` to reproduce results from previous versions.\n",
      "  self.seed = seed\n",
      "/home/ojanen/data/new_conda/envs/heartmap/lib/python3.11/site-packages/scvi/_settings.py:70: UserWarning: Setting `dl_pin_memory_gpu_training` is deprecated in v1.0 and will be removed in v1.1. Please pass in `pin_memory` to the data loaders instead.\n",
      "  self.dl_pin_memory_gpu_training = (\n",
      "/home/ojanen/data/new_conda/envs/heartmap/lib/python3.11/site-packages/tqdm/auto.py:21: TqdmWarning: IProgress not found. Please update jupyter and ipywidgets. See https://ipywidgets.readthedocs.io/en/stable/user_install.html\n",
      "  from .autonotebook import tqdm as notebook_tqdm\n"
     ]
    }
   ],
   "source": [
    "import pandas as pd\n",
    "import numpy as np\n",
    "import scanpy as sc\n",
    "import matplotlib.pyplot as plt\n",
    "import os\n",
    "import warnings\n",
    "import harmonypy as hm\n",
    "import scanorama\n",
    "import scvi\n",
    "from time import time\n",
    "\n",
    "\n",
    "\n",
    "warnings.filterwarnings('ignore')\n",
    "\n",
    "sc.set_figure_params(figsize=(8, 8), dpi=80, dpi_save=600)"
   ]
  },
  {
   "cell_type": "markdown",
   "id": "6e02d3d2-aa87-4f7b-bca6-3dc40ae6ccba",
   "metadata": {},
   "source": [
    "# Create small set of testing data"
   ]
  },
  {
   "cell_type": "code",
   "execution_count": 2,
   "id": "fa9a9f0f-a2dd-4f84-8816-a7843ee19da2",
   "metadata": {
    "editable": true,
    "slideshow": {
     "slide_type": ""
    },
    "tags": []
   },
   "outputs": [],
   "source": [
    "files = os.listdir('../scCAD/jupyter/qclus/benchmarking/qclus_results/dataset_adatas/selected_samples')\n",
    "\n",
    "adata = [sc.read_h5ad('../scCAD/jupyter/qclus/benchmarking/qclus_results/dataset_adatas/selected_samples/' + file) for file in files]\n",
    "\n",
    "#concatenate all the samples\n",
    "adata = adata[0].concatenate(adata[1:], join='outer')"
   ]
  },
  {
   "cell_type": "code",
   "execution_count": 3,
   "id": "63685b47-0497-495c-a9ff-990b985991ed",
   "metadata": {},
   "outputs": [],
   "source": [
    "sc.pp.highly_variable_genes(adata, min_mean=0.0125, max_mean=3, min_disp=0.5)\n",
    "adata.raw = adata\n",
    "adata = adata[:, adata.var.highly_variable]\n",
    "sc.pp.regress_out(adata, ['total_counts', 'pct_counts_MT'], n_jobs=48)\n",
    "sc.pp.scale(adata, max_value=10)\n",
    "sc.tl.pca(adata, svd_solver='arpack')\n",
    "sc.pp.neighbors(adata, n_neighbors=10, n_pcs=40)\n",
    "sc.tl.umap(adata)"
   ]
  },
  {
   "cell_type": "code",
   "execution_count": 4,
   "id": "d5dfb458-6404-411a-9b01-15919ccacd54",
   "metadata": {},
   "outputs": [],
   "source": [
    "datasets = ['Lit_dataset', 'Tu_dataset', 'Chaff_dataset', 'Koenig_dataset', 'Ku_dataset', 'Hill_dataset']\n",
    "dataset_names_corrected = ['Litviňuková et al.', 'CAREBANK', 'Chaffin et al.', 'Koenig et al.', 'PERIHEART', 'Hill et al.']\n",
    "\n",
    "# Create a mapping dictionary\n",
    "mapping_dict = dict(zip(datasets, dataset_names_corrected))\n",
    "\n",
    "# Replace values in adata.obs['dataset']\n",
    "adata.obs['dataset_id'] = adata.obs['dataset_id'].map(mapping_dict)"
   ]
  },
  {
   "cell_type": "code",
   "execution_count": 5,
   "id": "a63a4f3f-15f2-41dd-9afe-a62be5dd4495",
   "metadata": {},
   "outputs": [],
   "source": [
    "adata.write('data/selected_samples.h5ad')\n",
    "#adata = sc.read_h5ad('data/selected_samples.h5ad')"
   ]
  },
  {
   "cell_type": "code",
   "execution_count": null,
   "id": "b58902cd-4d8e-419f-89e4-6a8fb75e83e6",
   "metadata": {},
   "outputs": [],
   "source": []
  }
 ],
 "metadata": {
  "kernelspec": {
   "display_name": "Python 3 (ipykernel)",
   "language": "python",
   "name": "python3"
  },
  "language_info": {
   "codemirror_mode": {
    "name": "ipython",
    "version": 3
   },
   "file_extension": ".py",
   "mimetype": "text/x-python",
   "name": "python",
   "nbconvert_exporter": "python",
   "pygments_lexer": "ipython3",
   "version": "3.12.3"
  }
 },
 "nbformat": 4,
 "nbformat_minor": 5
}
